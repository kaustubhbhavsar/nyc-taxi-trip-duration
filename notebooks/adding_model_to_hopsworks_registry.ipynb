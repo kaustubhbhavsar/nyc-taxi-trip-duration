{
 "cells": [
  {
   "cell_type": "markdown",
   "metadata": {},
   "source": [
    "**Adding Trained Model to Hopsworks Registry: A Step towards Streamlined Model Deployment and Management**\n",
    "\n",
    "In this notebook, the final trained model that is stored as an artifact in Weights and Biases (and locally too), is added to the Hopsworks model registry."
   ]
  },
  {
   "cell_type": "code",
   "execution_count": 1,
   "metadata": {},
   "outputs": [],
   "source": [
    "# import libraries\n",
    "import pandas as pd\n",
    "import hopsworks\n",
    "from hsml.schema import Schema\n",
    "from hsml.model_schema import ModelSchema"
   ]
  },
  {
   "cell_type": "code",
   "execution_count": 2,
   "metadata": {},
   "outputs": [
    {
     "name": "stdout",
     "output_type": "stream",
     "text": [
      "Shape (Training): (1216082, 20)\n",
      "Train Shape: (1216082, 14), (1216082,)\n"
     ]
    }
   ],
   "source": [
    "# following is required for defining schema\n",
    "# get train set\n",
    "train_df = pd.read_csv(r\"E:\\NYC Taxi Trip Duration Prediction\\data\\training_datasets\\train.csv\") # load train.csv\n",
    "print(f'Shape (Training): {train_df.shape}') \n",
    "\n",
    "# convert columns to categorical as per train sets\n",
    "train_df = train_df.astype({\n",
    "    'vendor_id': 'category', \n",
    "    'passenger_count': 'category',\n",
    "    'store_and_fwd_flag': 'category',\n",
    "    '2AMto7AM_7AMto2AM': 'category',\n",
    "    'holiday': 'category'\n",
    "})\n",
    "\n",
    "# split training data set: features and target (also removed columns not used for training)\n",
    "X_train = train_df[train_df.columns.difference([\n",
    "    'id', \n",
    "    'pickup_datetime', \n",
    "    'trip_duration', \n",
    "    'hour',\n",
    "    'minute',\n",
    "    'store_and_fwd_flag'])]\n",
    "y_train = train_df[\"trip_duration\"] # target\n",
    "print(f'Train Shape: {X_train.shape}, {y_train.shape}')"
   ]
  },
  {
   "cell_type": "code",
   "execution_count": 3,
   "metadata": {},
   "outputs": [
    {
     "name": "stdout",
     "output_type": "stream",
     "text": [
      "Connected. Call `.close()` to terminate connection gracefully.\n",
      "\n",
      "Logged in to project, explore it here https://c.app.hopsworks.ai:443/p/37032\n"
     ]
    }
   ],
   "source": [
    "# login to hopsworks\n",
    "try:\n",
    "    project = hopsworks.login(\n",
    "        project=\"nyc_taxi_trip_duration\", \n",
    "        api_key_file=r'E:\\NYC Taxi Trip Duration Prediction\\config\\hopsworks_api_key'\n",
    "    )\n",
    "except hopsworks.exceptions.HopsworksRestAPIError as e:\n",
    "    print(f\"Unable to login to Hopsworks: {e}\")"
   ]
  },
  {
   "cell_type": "code",
   "execution_count": 4,
   "metadata": {},
   "outputs": [
    {
     "name": "stdout",
     "output_type": "stream",
     "text": [
      "Connected. Call `.close()` to terminate connection gracefully.\n"
     ]
    },
    {
     "data": {
      "application/vnd.jupyter.widget-view+json": {
       "model_id": "a5ad1f6fb4fe4c77ae31bbe2db5fbd6e",
       "version_major": 2,
       "version_minor": 0
      },
      "text/plain": [
       "  0%|          | 0/6 [00:00<?, ?it/s]"
      ]
     },
     "metadata": {},
     "output_type": "display_data"
    },
    {
     "name": "stdout",
     "output_type": "stream",
     "text": [
      "Model created, explore it at https://c.app.hopsworks.ai:443/p/37032/models/final_xgboost/1\n"
     ]
    },
    {
     "data": {
      "text/plain": [
       "Model(name: 'final_xgboost', version: 1)"
      ]
     },
     "execution_count": 4,
     "metadata": {},
     "output_type": "execute_result"
    }
   ],
   "source": [
    "# get Hopsworks Model Registry handle\n",
    "mr = project.get_model_registry()\n",
    "\n",
    "# save to hopsworks model registry\n",
    "input_example = X_train.sample() # instance of a valid model input\n",
    "input_schema = Schema(X_train) # describes type and shape of inputs for your model\n",
    "output_schema = Schema(y_train) # describes type and shape of outputs (predictions) for your model\n",
    "model_schema = ModelSchema(input_schema, output_schema)\n",
    "\n",
    "# register model to hopsworks registry\n",
    "final_xgboost_model = mr.python.create_model(\n",
    "    version=1,\n",
    "    name=\"final_xgboost\", \n",
    "    metrics={\"train_rmsle\":0.351, \"test_rmsle\":0.439},\n",
    "    model_schema=model_schema,\n",
    "    input_example=input_example, \n",
    "    description=\"Final model trained using XGBoost Regressor on Jan-May train data and June test data.\")\n",
    "\n",
    "final_xgboost_model.save(r'E:\\NYC Taxi Trip Duration Prediction\\model\\final_xgb_model.bin')"
   ]
  }
 ],
 "metadata": {
  "kernelspec": {
   "display_name": "Python 3.7.16 (conda)",
   "language": "python",
   "name": "python3"
  },
  "language_info": {
   "codemirror_mode": {
    "name": "ipython",
    "version": 3
   },
   "file_extension": ".py",
   "mimetype": "text/x-python",
   "name": "python",
   "nbconvert_exporter": "python",
   "pygments_lexer": "ipython3",
   "version": "3.7.16"
  },
  "orig_nbformat": 4,
  "vscode": {
   "interpreter": {
    "hash": "ccc6ac5cc4b1c6ba965de596f06cd93599e015a19c516c5ed1fcc75f56229d88"
   }
  }
 },
 "nbformat": 4,
 "nbformat_minor": 2
}
